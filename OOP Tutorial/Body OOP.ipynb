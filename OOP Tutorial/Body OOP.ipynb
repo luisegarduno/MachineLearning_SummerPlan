{
 "cells": [
  {
   "cell_type": "code",
   "execution_count": 1,
   "metadata": {
    "collapsed": true,
    "pycharm": {
     "name": "#%%\n"
    }
   },
   "outputs": [
    {
     "name": "stdout",
     "output_type": "stream",
     "text": [
      "name: Heart has 1 beats per second\n"
     ]
    }
   ],
   "source": [
    "# This is a class that inherits from a generic object\n",
    "class BodyPart(object):\n",
    "    # this is a class variable, shared across all instances\n",
    "    def __init__(self, name):\n",
    "        self.name = name\n",
    "\n",
    "# now define a class that sub classes from the defined BodyPart Class\n",
    "class Heart(BodyPart):\n",
    "    def __init__(self, rate = 60, units = \"minute\"):\n",
    "        self.rate = rate\n",
    "        self.units = units\n",
    "        super(Heart,self).__init__(\"Heart\")\n",
    "\n",
    "    def print_rate(self):\n",
    "        print(\"name: \" + str(self.name) + \" has \" + str(self.rate) + \" beats per \" + self.units)\n",
    "\n",
    "my_heart = Heart(1,\"second\")\n",
    "my_heart.print_rate()\n"
   ]
  }
 ],
 "metadata": {
  "kernelspec": {
   "display_name": "Python 3",
   "language": "python",
   "name": "python3"
  },
  "language_info": {
   "codemirror_mode": {
    "name": "ipython",
    "version": 2
   },
   "file_extension": ".py",
   "mimetype": "text/x-python",
   "name": "python",
   "nbconvert_exporter": "python",
   "pygments_lexer": "ipython2",
   "version": "2.7.6"
  }
 },
 "nbformat": 4,
 "nbformat_minor": 0
}