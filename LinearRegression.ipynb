{
 "cells": [
  {
   "cell_type": "code",
   "execution_count": 1,
   "metadata": {
    "collapsed": true,
    "pycharm": {
     "name": "#%%\n"
    }
   },
   "outputs": [
    {
     "data": {
      "text/plain": "<IPython.core.display.HTML object>",
      "text/html": "<link href='https://fonts.googleapis.com/css?family=Passion+One' rel='stylesheet' type='text/css'><style>div.attn      { font-family: 'Helvetica Neue'; font-size: 30px; line-height: 40px; color: #FFFFFF; text-align: center; margin: 3      0px 0; border-width: 10px 0; border-style: solid; border-color: #5AAAAA; padding: 30px 0; background-color: #DDDDF      F; }hr { border: 0; background-color: #ffffff; border-top: 1pxsolid black; }hr.major { border-top: 10px solid #5AA      A5A; }hr.minor { border: none; background-color: #ffffff; border-top: 5px dotted #CC3333; }div.bubble { width: 65%      ; padding: 20px; background: #DDDDDD; border-radius: 15px; margin: 0 auto; font-style: italic; color: #f00; }em {       color: #AAA; }div.c1{visibility:hidden;margin:0;height:0;}div.note{color:red;}</style>"
     },
     "execution_count": 1,
     "metadata": {},
     "output_type": "execute_result"
    }
   ],
   "source": [
    "#  Ebnable HTML/CSS\n",
    "from IPython.core.display import HTML\n",
    "HTML(\"<link href='https://fonts.googleapis.com/css?family=Passion+One' rel='stylesheet' type='text/css'><style>div.attn \\\n",
    "     { font-family: 'Helvetica Neue'; font-size: 30px; line-height: 40px; color: #FFFFFF; text-align: center; margin: 3 \\\n",
    "     0px 0; border-width: 10px 0; border-style: solid; border-color: #5AAAAA; padding: 30px 0; background-color: #DDDDF \\\n",
    "     F; }hr { border: 0; background-color: #ffffff; border-top: 1pxsolid black; }hr.major { border-top: 10px solid #5AA \\\n",
    "     A5A; }hr.minor { border: none; background-color: #ffffff; border-top: 5px dotted #CC3333; }div.bubble { width: 65% \\\n",
    "     ; padding: 20px; background: #DDDDDD; border-radius: 15px; margin: 0 auto; font-style: italic; color: #f00; }em {  \\\n",
    "     color: #AAA; }div.c1{visibility:hidden;margin:0;height:0;}div.note{color:red;}</style>\")"
   ]
  },
  {
   "cell_type": "markdown",
   "source": [
    "___\n",
    "Enter Team Member Names here (double click to edit):\n",
    "\n",
    "- Name 1: Luis Garduno\n",
    "- Name 2:\n",
    "- Name 3:\n"
   ],
   "metadata": {
    "collapsed": false
   }
  },
  {
   "cell_type": "markdown",
   "source": [
    "# In Class Assignment One\n",
    "In the following assignment you will be asked to fill in python code and derivations for a number of different problems.\n",
    "Please read all instructions carefully and turn in the rendered notebook (or HTML of the rendered notebook)\n",
    "before the end of class (or right after class). The initial portion of this notebook is given before class and the\n",
    "remainder is given during class. Please answer the initial questions before class, to the best of your ability.\n",
    "Once class has started you may rework your answers as a team for the initial part of the assignment.\n",
    "\n",
    "<a id=\"top\"></a>\n",
    "## Contents\n",
    "* <a href=\"#Loading\">Loading the Data</a>\n",
    "* <a href=\"#linearnumpy\">Linear Regression</a>\n",
    "* For in class session (not included here):\n",
    "* <a href=\"#sklearn\">Using Scikit Learn for Regression</a>\n",
    "* <a href=\"#classification\">Linear Classification</a>\n",
    "\n",
    "________________________________________________________________________________________________________\n",
    "\n",
    "<a id=\"Loading\"></a>\n",
    "<a href=\"#top\">Back to Top</a>\n",
    "## Loading the Data\n",
    "Please run the following code to read in the \"diabetes\" dataset from sklearn's data loading module.\n",
    "\n",
    "This will load the data into the variable `ds`. `ds` is a `bunch` object with fields like `ds.data` and `ds.target`.\n",
    "The field `ds.data` is a numpy matrix of the continuous features in the dataset. **The object is not a pandas dataframe.\n",
    "It is a numpy matrix.** Each row is a set of observed instances, each column is a different feature. It also has a field\n",
    "called `ds.target` that is a continuous value we are trying to predict. Each entry in `ds.target` is a label for each\n",
    "row of the `ds.data` matrix.\n",
    "\n",
    "The diabetes dataset was first used in the following paper:\n",
    "- http://statweb.stanford.edu/~imj/WEBLIST/2004/LarsAnnStat04.pdf"
   ],
   "metadata": {
    "collapsed": false
   }
  },
  {
   "cell_type": "code",
   "execution_count": 2,
   "outputs": [
    {
     "name": "stdout",
     "output_type": "stream",
     "text": [
      "features shape: (442, 10) format is: ('rows', 'columns')\n",
      "range of target: 25.0 346.0\n"
     ]
    }
   ],
   "source": [
    "from sklearn.datasets import load_diabetes\n",
    "import numpy as np\n",
    "from __future__ import print_function\n",
    "\n",
    "\n",
    "bunch = load_diabetes()\n",
    "\n",
    "# this holds the continuous feature data\n",
    "# because ds.data is a matrix, there are some special properties we can access (like 'shape')\n",
    "print('features shape:', bunch.data.shape, 'format is:', ('rows','columns')) # there are 442 instances and 10 features per instance\n",
    "print('range of target:', np.min(bunch.target),np.max(bunch.target))\n"
   ],
   "metadata": {
    "collapsed": false,
    "pycharm": {
     "name": "#%%\n"
    }
   }
  },
  {
   "cell_type": "code",
   "execution_count": 3,
   "outputs": [
    {
     "name": "stdout",
     "output_type": "stream",
     "text": [
      "array([[ 0.03807591,  0.05068012,  0.06169621, ..., -0.00259226,\n",
      "         0.01990842, -0.01764613],\n",
      "       [-0.00188202, -0.04464164, -0.05147406, ..., -0.03949338,\n",
      "        -0.06832974, -0.09220405],\n",
      "       [ 0.08529891,  0.05068012,  0.04445121, ..., -0.00259226,\n",
      "         0.00286377, -0.02593034],\n",
      "       ...,\n",
      "       [ 0.04170844,  0.05068012, -0.01590626, ..., -0.01107952,\n",
      "        -0.04687948,  0.01549073],\n",
      "       [-0.04547248, -0.04464164,  0.03906215, ...,  0.02655962,\n",
      "         0.04452837, -0.02593034],\n",
      "       [-0.04547248, -0.04464164, -0.0730303 , ..., -0.03949338,\n",
      "        -0.00421986,  0.00306441]])\n",
      "array([151.,  75., 141., 206., 135.,  97., 138.,  63., 110., 310., 101.,\n",
      "        69., 179., 185., 118., 171., 166., 144.,  97., 168.,  68.,  49.,\n",
      "        68., 245., 184., 202., 137.,  85., 131., 283., 129.,  59., 341.,\n",
      "        87.,  65., 102., 265., 276., 252.,  90., 100.,  55.,  61.,  92.,\n",
      "       259.,  53., 190., 142.,  75., 142., 155., 225.,  59., 104., 182.,\n",
      "       128.,  52.,  37., 170., 170.,  61., 144.,  52., 128.,  71., 163.,\n",
      "       150.,  97., 160., 178.,  48., 270., 202., 111.,  85.,  42., 170.,\n",
      "       200., 252., 113., 143.,  51.,  52., 210.,  65., 141.,  55., 134.,\n",
      "        42., 111.,  98., 164.,  48.,  96.,  90., 162., 150., 279.,  92.,\n",
      "        83., 128., 102., 302., 198.,  95.,  53., 134., 144., 232.,  81.,\n",
      "       104.,  59., 246., 297., 258., 229., 275., 281., 179., 200., 200.,\n",
      "       173., 180.,  84., 121., 161.,  99., 109., 115., 268., 274., 158.,\n",
      "       107.,  83., 103., 272.,  85., 280., 336., 281., 118., 317., 235.,\n",
      "        60., 174., 259., 178., 128.,  96., 126., 288.,  88., 292.,  71.,\n",
      "       197., 186.,  25.,  84.,  96., 195.,  53., 217., 172., 131., 214.,\n",
      "        59.,  70., 220., 268., 152.,  47.,  74., 295., 101., 151., 127.,\n",
      "       237., 225.,  81., 151., 107.,  64., 138., 185., 265., 101., 137.,\n",
      "       143., 141.,  79., 292., 178.,  91., 116.,  86., 122.,  72., 129.,\n",
      "       142.,  90., 158.,  39., 196., 222., 277.,  99., 196., 202., 155.,\n",
      "        77., 191.,  70.,  73.,  49.,  65., 263., 248., 296., 214., 185.,\n",
      "        78.,  93., 252., 150.,  77., 208.,  77., 108., 160.,  53., 220.,\n",
      "       154., 259.,  90., 246., 124.,  67.,  72., 257., 262., 275., 177.,\n",
      "        71.,  47., 187., 125.,  78.,  51., 258., 215., 303., 243.,  91.,\n",
      "       150., 310., 153., 346.,  63.,  89.,  50.,  39., 103., 308., 116.,\n",
      "       145.,  74.,  45., 115., 264.,  87., 202., 127., 182., 241.,  66.,\n",
      "        94., 283.,  64., 102., 200., 265.,  94., 230., 181., 156., 233.,\n",
      "        60., 219.,  80.,  68., 332., 248.,  84., 200.,  55.,  85.,  89.,\n",
      "        31., 129.,  83., 275.,  65., 198., 236., 253., 124.,  44., 172.,\n",
      "       114., 142., 109., 180., 144., 163., 147.,  97., 220., 190., 109.,\n",
      "       191., 122., 230., 242., 248., 249., 192., 131., 237.,  78., 135.,\n",
      "       244., 199., 270., 164.,  72.,  96., 306.,  91., 214.,  95., 216.,\n",
      "       263., 178., 113., 200., 139., 139.,  88., 148.,  88., 243.,  71.,\n",
      "        77., 109., 272.,  60.,  54., 221.,  90., 311., 281., 182., 321.,\n",
      "        58., 262., 206., 233., 242., 123., 167.,  63., 197.,  71., 168.,\n",
      "       140., 217., 121., 235., 245.,  40.,  52., 104., 132.,  88.,  69.,\n",
      "       219.,  72., 201., 110.,  51., 277.,  63., 118.,  69., 273., 258.,\n",
      "        43., 198., 242., 232., 175.,  93., 168., 275., 293., 281.,  72.,\n",
      "       140., 189., 181., 209., 136., 261., 113., 131., 174., 257.,  55.,\n",
      "        84.,  42., 146., 212., 233.,  91., 111., 152., 120.,  67., 310.,\n",
      "        94., 183.,  66., 173.,  72.,  49.,  64.,  48., 178., 104., 132.,\n",
      "       220.,  57.])\n"
     ]
    }
   ],
   "source": [
    "from pprint import pprint\n",
    "\n",
    "# we can set the fields inside of ds and set them to new variables in python\n",
    "pprint(bunch.data) # prints out elements of the matrix\n",
    "pprint(bunch.target) # prints the vector (all 442 items)"
   ],
   "metadata": {
    "collapsed": false,
    "pycharm": {
     "name": "#%%\n"
    }
   }
  },
  {
   "cell_type": "code",
   "source": [
    "import pandas as pd\n",
    "\n",
    "# Or you could put the bunch.data and bunch.target into dataframes\n",
    "\n",
    "df_data = pd.DataFrame(bunch.data)\n",
    "df_target = pd.DataFrame(bunch.target)\n",
    "print(\"===================================Bunch.data===================================\\n\", df_data)\n",
    "print(\"===================================Bunch.target=================================\\n\", df_target)\n"
   ],
   "metadata": {
    "collapsed": false,
    "pycharm": {
     "name": "#%%\n"
    }
   },
   "execution_count": 4,
   "outputs": [
    {
     "name": "stdout",
     "output_type": "stream",
     "text": [
      "===================================Bunch.data===================================\n",
      "             0         1         2         3         4         5         6  \\\n",
      "0    0.038076  0.050680  0.061696  0.021872 -0.044223 -0.034821 -0.043401   \n",
      "1   -0.001882 -0.044642 -0.051474 -0.026328 -0.008449 -0.019163  0.074412   \n",
      "2    0.085299  0.050680  0.044451 -0.005671 -0.045599 -0.034194 -0.032356   \n",
      "3   -0.089063 -0.044642 -0.011595 -0.036656  0.012191  0.024991 -0.036038   \n",
      "4    0.005383 -0.044642 -0.036385  0.021872  0.003935  0.015596  0.008142   \n",
      "..        ...       ...       ...       ...       ...       ...       ...   \n",
      "437  0.041708  0.050680  0.019662  0.059744 -0.005697 -0.002566 -0.028674   \n",
      "438 -0.005515  0.050680 -0.015906 -0.067642  0.049341  0.079165 -0.028674   \n",
      "439  0.041708  0.050680 -0.015906  0.017282 -0.037344 -0.013840 -0.024993   \n",
      "440 -0.045472 -0.044642  0.039062  0.001215  0.016318  0.015283 -0.028674   \n",
      "441 -0.045472 -0.044642 -0.073030 -0.081414  0.083740  0.027809  0.173816   \n",
      "\n",
      "            7         8         9  \n",
      "0   -0.002592  0.019908 -0.017646  \n",
      "1   -0.039493 -0.068330 -0.092204  \n",
      "2   -0.002592  0.002864 -0.025930  \n",
      "3    0.034309  0.022692 -0.009362  \n",
      "4   -0.002592 -0.031991 -0.046641  \n",
      "..        ...       ...       ...  \n",
      "437 -0.002592  0.031193  0.007207  \n",
      "438  0.034309 -0.018118  0.044485  \n",
      "439 -0.011080 -0.046879  0.015491  \n",
      "440  0.026560  0.044528 -0.025930  \n",
      "441 -0.039493 -0.004220  0.003064  \n",
      "\n",
      "[442 rows x 10 columns]\n",
      "===================================Bunch.target=================================\n",
      "          0\n",
      "0    151.0\n",
      "1     75.0\n",
      "2    141.0\n",
      "3    206.0\n",
      "4    135.0\n",
      "..     ...\n",
      "437  178.0\n",
      "438  104.0\n",
      "439  132.0\n",
      "440  220.0\n",
      "441   57.0\n",
      "\n",
      "[442 rows x 1 columns]\n"
     ]
    }
   ]
  },
  {
   "cell_type": "markdown",
   "source": [
    "________________________________________________________________________________________________________\n",
    "<a id=\"linearnumpy\"></a>\n",
    "<a href=\"#top\">Back to Top</a>\n",
    "## Using Linear Regression\n",
    "In the videos, we derived the formula for calculating the optimal values of the regression weights\n",
    "(you must be connected to the internet for this equation to show up properly):\n",
    "\n",
    "$$ w = (X^TX)^{-1}X^Ty $$\n",
    "\n",
    "where $X$ is the matrix of values with a bias column of ones appended onto it. For the diabetes dataset one could\n",
    "construct this $X$ matrix by stacking a column of ones onto the `ds.data` matrix.\n",
    "\n",
    "$$ X=\\begin{bmatrix}\n",
    "         & \\vdots &        &  1 \\\\\n",
    "        \\dotsb & \\text{ds.data} & \\dotsb &  \\vdots\\\\\n",
    "         & \\vdots &         &  1\\\\\n",
    "     \\end{bmatrix}\n",
    "$$\n",
    "\n",
    "**Question 1:** For the diabetes dataset, how many elements will the vector $w$ contain?"
   ],
   "metadata": {
    "collapsed": false,
    "pycharm": {
     "name": "#%% md\n"
    }
   }
  },
  {
   "cell_type": "code",
   "source": [
    "# Enter your answer here (or write code to calculate it)\n",
    "\n",
    "# The shape of Bunch.data is (442,10) : 442 rows & 10 Columns\n",
    "print(\"bunch.data.shape:\", bunch.data.shape)\n",
    "\n",
    "# The shape of Bunch.target is (442,) : 442 rows & 1 Column\n",
    "print(\"bunch.target.shape:\", bunch.target.shape)\n",
    "\n",
    "# ============= Solution 1:\n",
    "# Question 1 Answer: Since each set within the bunch.data requires a unique weight, there will be 10 elements in vector w,\n",
    "#                    If the bias column is appended in bunch.data already, then the the number of elements in vector w\n",
    "#                    will rise to a total of 11 elements\n",
    "\n",
    "\n",
    "\n",
    "# ============= Solution 2:\n",
    "#   MatrixA = (442 rows, 10 columns)\n",
    "#   MatrixB = (?   rows, ?  columns)\n",
    "#   MatrixC = (442 rows, 1  column)\n",
    "\n",
    "# MatrixA dot MatrixB = MatrixC\n",
    "\n",
    "# Using Algebra we can solve for the missing dimensions\n",
    "# 1) Recalling you can only do matrix multiplication when \"# of columns in MatrixA\" == \"# of rows in MatrixB\",\n",
    "#    we now know MatrixB (10 rows,)\n",
    "# 2) Additionally we know that \"# of columns in MatrixC\" == \"# of columns in MatrixB\", we now know the full dimensions\n",
    "#    of MatrixB (10 rows, 1 column)\n",
    "\n",
    "# Concluding: MatrixA(442,10) * MatrixB(10,1) = MatrixC(442,1)\n",
    "# Question 1 Answer: If the bias column is appended to MatrixA, the vector w will contain 11 elements,\n",
    "#                    Otherwise it only contains 10 elements."
   ],
   "metadata": {
    "collapsed": false,
    "pycharm": {
     "name": "#%%\n"
    }
   },
   "execution_count": 5,
   "outputs": [
    {
     "name": "stdout",
     "output_type": "stream",
     "text": [
      "bunch.data.shape: (442, 10)\n",
      "bunch.target.shape: (442,)\n"
     ]
    }
   ]
  },
  {
   "cell_type": "markdown",
   "source": [
    "________________________________________________________________________________________________________\n",
    "\n",
    "**Exercise 1:** In the following empty cell, use the given equation above (using numpy matrix operations) to find the\n",
    "values of the optimal vector $w$. You will need to be sure $X$ and $y$ are created like the instructor talked about in\n",
    "the video. Don't forget to include any modifications to $X$ to account for the bias term in $w$. You might be interested\n",
    "in the following functions:\n",
    "\n",
    "- `import numpy as np`\n",
    "- `np.hstack((mat1,mat2))` stack two matrices horizontally, to create a new matrix\n",
    "- `np.ones((rows,cols))` create a matrix full of ones\n",
    "- `my_mat.T` takes transpose of numpy matrix named `my_mat`\n",
    "- `np.dot(mat1,mat2)` or `mat1 @ mat2` is matrix multiplication for two matrices\n",
    "- `np.linalg.inv(mat)` gets the inverse of the variable `mat`"
   ],
   "metadata": {
    "collapsed": false,
    "pycharm": {
     "name": "#%% md\n"
    }
   }
  },
  {
   "cell_type": "code",
   "execution_count": 6,
   "outputs": [
    {
     "name": "stdout",
     "output_type": "stream",
     "text": [
      "++++++++++++++ WEIGHTS +++++++++++++++++\n",
      "Shape: (11,) \n",
      "              0\n",
      "0   152.133484\n",
      "1   -10.012198\n",
      "2  -239.819089\n",
      "3   519.839787\n",
      "4   324.390428\n",
      "5  -792.184162\n",
      "6   476.745838\n",
      "7   101.044570\n",
      "8   177.064176\n",
      "9   751.279321\n",
      "10   67.625386\n",
      "============= TARGET PERCENT ACCURACY ===============\n",
      "          0\n",
      "0    63.50\n",
      "1    90.76\n",
      "2    74.55\n",
      "3    81.03\n",
      "4    95.16\n",
      "..     ...\n",
      "437  91.56\n",
      "438  97.17\n",
      "439  91.84\n",
      "440  96.30\n",
      "441  93.77\n",
      "\n",
      "[442 rows x 1 columns]\n"
     ]
    }
   ],
   "source": [
    "# Write you code here, print the values of the regression weights using the 'print()' function in python\n",
    "import numpy as np\n",
    "\n",
    "X = bunch.data\n",
    "y = bunch.target\n",
    "\n",
    "# Create an array w/ Shape(442,1) & populate each column w/ a 1\n",
    "#      np.full((len(X, 1), 1) Or:\n",
    "# Stack two matrices horizontally, to create a new matrix\n",
    "bias = np.ones((len(X),1))\n",
    "\n",
    "# Appending bias to each set within the batch.\n",
    "#   np.append(X, bias, axis=1)    Or:\n",
    "# Stack two matrices horizontally, to create a new matrix\n",
    "X = np.hstack((bias,X))\n",
    "\n",
    "# Solution =========================\n",
    "w = np.linalg.inv(X.T @ X) @ X.T @ y\n",
    "print(\"++++++++++++++ WEIGHTS +++++++++++++++++\\n\" + \"Shape:\", w.shape, \"\\n\", pd.DataFrame(data=w))\n",
    "diff = np.round(( (y - (abs(np.dot(X,w) - y))) / y ) * 100, 2)\n",
    "print(\"============= TARGET PERCENT ACCURACY ===============\\n\", pd.DataFrame(data=diff))\n",
    "\n",
    "# Alternative method 1 =========================\n",
    "# w1 = np.dot(np.linalg.inv(np.dot(np.array(X).T,X)), np.dot(np.array(X).T,y))\n",
    "# print(\"++++++++++++++ WEIGHTS +++++++++++++++++\\n\" + \"Shape:\", w1.shape, \"\\n\", pd.DataFrame(data=w1))\n",
    "# diff_1 = np.round(( (y - (abs(np.dot(X,w1) - y))) / y ) * 100, 2)\n",
    "# print(\"============= TARGET ACCURACY ===============\\n\", pd.DataFrame(data=diff_1))\n",
    "\n",
    "# Alternative method 2 =========================\n",
    "# w2 = np.dot(np.linalg.inv(np.dot(X.transpose(),X)), np.dot(X.transpose(),y))\n",
    "# print(\"++++++++++++++ WEIGHTS +++++++++++++++++\\n\" + \"Shape:\", w2.shape, \"\\n\", pd.DataFrame(data=w2))\n",
    "# diff_2 = np.round(( (y - (abs(np.dot(X, w2) - y))) / y ) * 100, 2)\n",
    "# print(\"============= TARGET ACCURACY ===============\\n\", pd.DataFrame(data=diff_2))"
   ],
   "metadata": {
    "collapsed": false,
    "pycharm": {
     "name": "#%%\n"
    }
   }
  }
 ],
 "metadata": {
  "kernelspec": {
   "display_name": "Python 3",
   "language": "python",
   "name": "python3"
  },
  "language_info": {
   "codemirror_mode": {
    "name": "ipython",
    "version": 2
   },
   "file_extension": ".py",
   "mimetype": "text/x-python",
   "name": "python",
   "nbconvert_exporter": "python",
   "pygments_lexer": "ipython2",
   "version": "2.7.6"
  }
 },
 "nbformat": 4,
 "nbformat_minor": 0
}