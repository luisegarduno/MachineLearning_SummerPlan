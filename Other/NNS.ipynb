{
 "cells": [
  {
   "cell_type": "code",
   "id": "initial_id",
   "metadata": {
    "collapsed": true,
    "ExecuteTime": {
     "end_time": "2024-10-12T00:55:46.233892Z",
     "start_time": "2024-10-12T00:55:46.230398Z"
    }
   },
   "source": [
    "import numpy as np\n",
    "import pandas as pd\n",
    "\n",
    "class Layer_Dense:\n",
    "    def __init__(self, n_inputs, n_neurons):\n",
    "        self.weights = 0.01 * np.random.rand(n_inputs, n_neurons)\n",
    "        self.biases = np.zeros((1, n_neurons))\n",
    "        \n",
    "    # Forward pass\n",
    "    def forward(self, inputs):\n",
    "        # Calculate output values from inputs, weights and biases\n",
    "        self.output = np.dot(inputs, self.weights) + self.biases"
   ],
   "outputs": [],
   "execution_count": 34
  },
  {
   "metadata": {
    "ExecuteTime": {
     "end_time": "2024-10-12T01:06:26.903664Z",
     "start_time": "2024-10-12T01:06:26.897632Z"
    }
   },
   "cell_type": "code",
   "source": [
    "import nnfs\n",
    "from nnfs.datasets import spiral_data\n",
    "\n",
    "nnfs.init()\n",
    "\n",
    "# Create dataset using spiral_data\n",
    "# - samples(2 features): number of batches/samples to generate for EACH class\n",
    "# - classes(1 feature): number of unique classes - 1D \n",
    "# Example: samples=1,classes=1 --> X=[[1.1, 1.2]], y=[0] \n",
    "X, y = spiral_data(samples=100, classes=3)\n",
    "\n",
    "# Create Dense Layer with 2 input features and 3 output values\n",
    "# - n_inputs must match number of features per batch being inputted\n",
    "# - n_neurons can be however many neurons you want the inputs to be fed out to\n",
    "layer1 = Layer_Dense(2,3)\n",
    "\n",
    "# Perform a forward feed of our training data through this layer\n",
    "layer1.forward(X)\n",
    "\n",
    "# Let's see output of the first few samples:\n",
    "print(layer1.output[:5])\n",
    "print(layer1.output.shape)"
   ],
   "id": "299ee7c2a672f187",
   "outputs": [
    {
     "name": "stdout",
     "output_type": "stream",
     "text": [
      "[[0.00000000e+00 0.00000000e+00 0.00000000e+00]\n",
      " [5.97437393e-05 3.68895635e-05 8.37819971e-05]\n",
      " [1.46999708e-04 9.15808050e-05 1.40212578e-04]\n",
      " [2.07372344e-04 1.30936343e-04 5.65641167e-05]\n",
      " [2.86790368e-04 1.80765084e-04 1.03854705e-04]]\n",
      "(300, 3)\n"
     ]
    }
   ],
   "execution_count": 40
  },
  {
   "metadata": {
    "ExecuteTime": {
     "end_time": "2024-10-12T01:07:19.313888Z",
     "start_time": "2024-10-12T01:07:19.310246Z"
    }
   },
   "cell_type": "code",
   "source": [
    "# Let's create another layer to then connect to Layer 1\n",
    "# - n_inputs for Layer 2 MUST BE EQUAL to the number of neurons Layer 1 outputted\n",
    "layer2 = Layer_Dense(3, 4)\n",
    "\n",
    "# Pass in the outputs from layer 1\n",
    "layer2.forward(layer1.output)\n",
    "\n",
    "print(layer2.output[:5])\n",
    "print(layer2.output.shape)"
   ],
   "id": "ec4d51fa97b6bccc",
   "outputs": [
    {
     "name": "stdout",
     "output_type": "stream",
     "text": [
      "[[0.0000000e+00 0.0000000e+00 0.0000000e+00 0.0000000e+00]\n",
      " [3.8623335e-07 5.0935955e-07 5.0201709e-07 1.2278412e-07]\n",
      " [8.0463690e-07 1.0898336e-06 1.1493601e-06 2.9622544e-07]\n",
      " [8.2301898e-07 1.1873118e-06 1.4374938e-06 4.0527806e-07]\n",
      " [1.1948430e-06 1.7055517e-06 2.0213868e-06 5.6277628e-07]]\n",
      "(300, 4)\n"
     ]
    }
   ],
   "execution_count": 42
  },
  {
   "metadata": {},
   "cell_type": "code",
   "outputs": [],
   "execution_count": null,
   "source": "",
   "id": "31e26554e504e827"
  }
 ],
 "metadata": {
  "kernelspec": {
   "display_name": "Python 3",
   "language": "python",
   "name": "python3"
  },
  "language_info": {
   "codemirror_mode": {
    "name": "ipython",
    "version": 2
   },
   "file_extension": ".py",
   "mimetype": "text/x-python",
   "name": "python",
   "nbconvert_exporter": "python",
   "pygments_lexer": "ipython2",
   "version": "2.7.6"
  }
 },
 "nbformat": 4,
 "nbformat_minor": 5
}
