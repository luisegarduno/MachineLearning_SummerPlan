{
 "cells": [
  {
   "cell_type": "code",
   "execution_count": 1,
   "metadata": {
    "collapsed": true
   },
   "outputs": [
    {
     "data": {
      "text/plain": "['A rise in illegal deforestation heightens the risk of fires in the Brazilian rainforest even more destructive than those that drew global outrage last year.',\n 'The rainforest and its Indigenous groups face existential threats, while criminals act as if they have license to plunder.',\n 'Mr. Paiakan became celebrated internationally for his campaigns in Brazil, even appearing once with Sting. He died of Covid-19.',\n 'Brazil was responsible for more than a third of the total global loss in 2019.',\n 'Sandra Benites, of the Guaraní Ñandeva people, is using art to bring new visions and voices to the museum world.',\n 'Scientists have produced data that shows the range of an enigmatic short-eared canid species that has yet to be widely studied.',\n 'President Jair Bolsonaro is moving aggressively to open up the Amazon rainforest to commercial development, posing an existential threat to the tribes living there.',\n 'New research from Stanford University holds lessons for a world reeling from the coronavirus  and searching for ways to avert the next global pandemic. ',\n 'The decision, in a letter on Catholic life in remote Amazon areas, is a victory for conservative forces who had warned that change there would put the church on a slippery slope.',\n 'Reconstruction of a fossil of an extinct South American relative of the capybara shows it didn’t have much space in its skull for a brain.']"
     },
     "execution_count": 1,
     "metadata": {},
     "output_type": "execute_result"
    }
   ],
   "source": [
    "import requests\n",
    "import json\n",
    "from contextlib import closing\n",
    "\n",
    "with open('../NYTimesAPI.txt') as f:\n",
    "    api_key = f.read()\n",
    "\n",
    "# make base URL and dictionary of get request key/values\n",
    "# Example Call : https://api.nytimes.com/svc/search/v2/articlesearch.json?q=election&api-key=yourkey\n",
    "url = \"https://api.nytimes.com/svc/search/v2/articlesearch.json\"\n",
    "payload = {'api-key': api_key, 'q':'Amazon'} # key/values for get request\n",
    "\n",
    "# Perform the actual request\n",
    "with closing(requests.get(url, params=payload)) as r:\n",
    "    articles = r.json()\n",
    "\n",
    "summary_text = [x['snippet'] for x in articles['response']['docs']]\n",
    "summary_text"
   ]
  },
  {
   "cell_type": "code",
   "execution_count": 1,
   "outputs": [
    {
     "data": {
      "text/plain": "['David Goldblatt’s “The Games” recalls unflattering aspects of the Olympics long before doping and gender testing.',\n 'Penalizing a country for doping seems to be a much more effective way to ensure rapid and enduring change.',\n 'Loroupe, who won the New York City Marathon in 1994 and 1995, is the leader of the 10 displaced athletes who make up the Refugee Olympic Team.',\n 'It is time to focus on the folks going to Rio without fear or complaint — like Diana Taurasi and Sue Bird, who hope to win their fourth gold with the United States women’s basketball team.',\n 'Fans may want athletes to be drug free, but they also want to be entertained by raw power, and there has long been a wink-and-nod pragmatism about weight lifting in particular.',\n 'By deciding against a complete ban of Russian athletes from the Rio Games, the International Olympic Committee is sending mixed messages.',\n 'How did The New York Times prepare for its Olympics coverage? Here’s a quantitative look.',\n 'A real-time stream of images from the Rio 2016 Olympics by photographers for The New York Times, The Associated Press, Reuters, Getty Images, European Pressphoto Agency, and Agence France-Presse.',\n 'The peerless swimmer Katie Ledecky; a photo essay of Olympians and their heroes; the sprinter Justin Gatlin’s comeback; how Boston’s citizens fought to reject their city’s bid; and 10 writers on their memories of Games past.',\n 'The account of which countries have dominated the Summer Olympics is also a snapshot of modern history.']"
     },
     "execution_count": 1,
     "metadata": {},
     "output_type": "execute_result"
    }
   ],
   "source": [
    "import json\n",
    "\n",
    "with open('data/nytime.json', encoding='utf8') as f:\n",
    "    articles = json.load(f)\n",
    "\n",
    "# return the summary of the each article\n",
    "summary_text = [x['snippet'] for x in articles['response']['docs']]\n",
    "summary_text\n"
   ],
   "metadata": {
    "collapsed": false,
    "pycharm": {
     "name": "#%%\n"
    }
   }
  }
 ],
 "metadata": {
  "kernelspec": {
   "display_name": "Python 3",
   "language": "python",
   "name": "python3"
  },
  "language_info": {
   "codemirror_mode": {
    "name": "ipython",
    "version": 2
   },
   "file_extension": ".py",
   "mimetype": "text/x-python",
   "name": "python",
   "nbconvert_exporter": "python",
   "pygments_lexer": "ipython2",
   "version": "2.7.6"
  }
 },
 "nbformat": 4,
 "nbformat_minor": 0
}