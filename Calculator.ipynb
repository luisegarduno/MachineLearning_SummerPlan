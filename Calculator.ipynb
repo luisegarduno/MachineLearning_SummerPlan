{
 "cells": [
  {
   "cell_type": "code",
   "execution_count": 3,
   "metadata": {
    "collapsed": true
   },
   "outputs": [
    {
     "name": "stdout",
     "output_type": "stream",
     "text": [
      "Calculator Prompt\n",
      "1.0\n",
      "2.0\n",
      "3.0\n",
      "3.0\n",
      "+\n",
      "[9.0]\n",
      "+\n",
      "q\n"
     ]
    }
   ],
   "source": [
    "operations = ['+','-','*','/','^']\n",
    "def isOperation(value):\n",
    "    if value in operations:\n",
    "        return True\n",
    "    else:\n",
    "        return False\n",
    "\n",
    "# start adding the evaluation queue\n",
    "def isfloat(value):\n",
    "    try:\n",
    "        tmp = float(value)\n",
    "        return True\n",
    "    except ValueError:\n",
    "        return False\n",
    "    \n",
    "def convert_user_input(value):\n",
    "    if isfloat(value):\n",
    "        return float(value)\n",
    "    \n",
    "    elif (isOperation(value) or value == 'q'):\n",
    "        return value\n",
    "    \n",
    "def perform_operation(operation,values):\n",
    "    if operation == '+':\n",
    "        return values[0] + values[1]\n",
    "    elif operation == '-':\n",
    "        return values[0] - values[1]\n",
    "    elif operation == '*':\n",
    "        return values[0] * values[1]\n",
    "    elif operation == '/':\n",
    "        return values[0] / values[1]\n",
    "    elif operation == '^':\n",
    "        return values[0] ** values[1]\n",
    "    \n",
    "    \n",
    "    \n",
    "print(\"Calculator Prompt\")\n",
    "user_input = ''\n",
    "eval_queue = []\n",
    "\n",
    "while user_input != 'q':\n",
    "    user_input = convert_user_input(input(\"\"))\n",
    "    if user_input != None:\n",
    "        print(user_input)\n",
    "        eval_queue.append(user_input)\n",
    "    \n",
    "    if len(eval_queue) >= 3 and isOperation(eval_queue[-1]):\n",
    "        operation  = eval_queue.pop()\n",
    "        result = 0\n",
    "        for i in range(len(eval_queue)):\n",
    "            for j in range(i + 1,len(eval_queue)):\n",
    "                end = eval_queue.pop()\n",
    "                front = eval_queue.pop()\n",
    "                result = perform_operation(operation, (front, end))\n",
    "                eval_queue.append(result)\n",
    "        \n",
    "        \n",
    "        print(eval_queue)"
   ]
  }
 ],
 "metadata": {
  "kernelspec": {
   "display_name": "Python 3",
   "language": "python",
   "name": "python3"
  },
  "language_info": {
   "codemirror_mode": {
    "name": "ipython",
    "version": 2
   },
   "file_extension": ".py",
   "mimetype": "text/x-python",
   "name": "python",
   "nbconvert_exporter": "python",
   "pygments_lexer": "ipython2",
   "version": "2.7.6"
  }
 },
 "nbformat": 4,
 "nbformat_minor": 0
}